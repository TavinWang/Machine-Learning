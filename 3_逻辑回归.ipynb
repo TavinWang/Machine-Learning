{
 "cells": [
  {
   "cell_type": "markdown",
   "id": "f62b57e3",
   "metadata": {},
   "source": [
    "# 逻辑回归"
   ]
  },
  {
   "cell_type": "markdown",
   "id": "a0584555",
   "metadata": {},
   "source": [
    "## (1)梯度下降实现逻辑回归"
   ]
  },
  {
   "cell_type": "code",
   "execution_count": 386,
   "id": "89b1ae22",
   "metadata": {},
   "outputs": [],
   "source": [
    "import numpy as np\n",
    "import matplotlib.pyplot as plt\n",
    "import pandas as pd\n",
    "plt.rcParams['font.sans-serif'] = ['SimHei']"
   ]
  },
  {
   "cell_type": "code",
   "execution_count": 387,
   "id": "199bbe8d",
   "metadata": {},
   "outputs": [],
   "source": [
    "# def sigmoid(z):\n",
    "#     return 1/(1+np.exp(-z))"
   ]
  },
  {
   "cell_type": "code",
   "execution_count": 388,
   "id": "117637fc",
   "metadata": {},
   "outputs": [],
   "source": [
    "# def gradient_descent(X, y, rate, iterations=10000):\n",
    "#     m = len(y) \n",
    "#     X = np.c_[np.ones(m), X]  # 添加常数项\n",
    "#     theta = np.zeros(X.shape[1])  # 初始化参数，包括截距\n",
    "#     cost_record = np.zeros(iterations)  # 用来记录cost function的变化\n",
    "    \n",
    "#     for i in range(iterations):\n",
    "#         h = sigmoid(np.dot(X, theta))\n",
    "        \n",
    "#         # 计算梯度\n",
    "#         gradient = np.dot(X.T, (h-y))\n",
    "        \n",
    "#         # 更新参数\n",
    "#         theta = theta - rate * gradient\n",
    "        \n",
    "#         # 记录cost function\n",
    "#         cost = -np.dot(y.T, np.log(sigmoid(np.dot(X, theta)))) - np.dot((1-y).T, np.log(1-sigmoid(np.dot(X, theta))))\n",
    "#         cost_record[i] = cost\n",
    "        \n",
    "#     return theta, cost_record"
   ]
  },
  {
   "cell_type": "code",
   "execution_count": 462,
   "id": "67d2a9f1",
   "metadata": {},
   "outputs": [],
   "source": [
    "class LogisticRegression:\n",
    "    def __init__(self, learning_rate=0.01, num_iterations=10000):\n",
    "        self.learning_rate = learning_rate\n",
    "        self.num_iterations = num_iterations\n",
    "        self.weights = None\n",
    "        self.bias = None\n",
    "        self.loss_record = []\n",
    "        self.gradient_record = []\n",
    "        self.accuracy_record = []\n",
    "\n",
    "    def sigmoid(self, z):\n",
    "        return 1 / (1 + np.exp(-z))\n",
    "\n",
    "    def fit(self, X, y):\n",
    "        m, n = X.shape\n",
    "        self.weights = np.zeros(n)\n",
    "        self.bias = 0\n",
    "\n",
    "        for iteration in range(self.num_iterations):\n",
    "            # 计算预测值\n",
    "            z = np.dot(X, self.weights) + self.bias\n",
    "            predictions = self.sigmoid(z)\n",
    "\n",
    "            # 计算损失函数\n",
    "            cost = -1/m * np.sum(y * np.log(predictions) + (1 - y) * np.log(1 - predictions))\n",
    "            self.loss_record.append(cost)\n",
    "\n",
    "            # 计算梯度\n",
    "            dw = 1/m * np.dot(X.T, (predictions - y))\n",
    "\n",
    "            db = 1/m * np.sum((predictions - y))\n",
    "            self.gradient_record.append(np.linalg.norm(dw))\n",
    "            \n",
    "            # 计算准确率\n",
    "            accuracy = self.compute_accuracy(predictions.round(), y)\n",
    "            self.accuracy_record.append(accuracy)\n",
    "\n",
    "            # 更新参数\n",
    "            self.weights -= (self.learning_rate * dw)\n",
    "            self.bias -= self.learning_rate * db\n",
    "            \n",
    "        return self.loss_record, self.gradient_record\n",
    "    \n",
    "    def compute_accuracy(self, predictions, y):\n",
    "        accuracy = np.mean(predictions == y)\n",
    "        return accuracy\n",
    "\n",
    "    def predict(self, X):\n",
    "        z = np.dot(X, self.weights) + self.bias\n",
    "        predictions = self.sigmoid(z)\n",
    "        return (predictions > 0.5).astype(int)\n",
    "    \n",
    "    def plot_accuracy(self):\n",
    "        plt.plot(range(1, self.num_iterations + 1), self.accuracy_record, marker='o', color='green')\n",
    "        plt.title('Accuracy over iterations')\n",
    "        plt.xlabel('Iterations')\n",
    "        plt.ylabel('Accuracy')\n",
    "        plt.show()\n",
    "    \n",
    "    def get_theta(self):\n",
    "        return self.weights, self.bias\n",
    "    "
   ]
  },
  {
   "cell_type": "code",
   "execution_count": 390,
   "id": "5217314d",
   "metadata": {},
   "outputs": [],
   "source": [
    "def draw(num_iterations, loss_record, gradient_norm_record):\n",
    "    plt.figure(figsize=(10, 4))\n",
    "    plt.subplot(1, 2, 1)\n",
    "    plt.plot(range(num_iterations), loss_record)\n",
    "    plt.xlabel('迭代次数')\n",
    "    plt.ylabel('损失函数值')\n",
    "    plt.title('损失函数变化')\n",
    "    \n",
    "    plt.subplot(1, 2, 2)\n",
    "    plt.plot(range(num_iterations), gradient_norm_record)\n",
    "    plt.xlabel('迭代次数')\n",
    "    plt.ylabel('梯度模')\n",
    "    plt.title('梯度模变化')\n",
    "    \n",
    "    plt.tight_layout()\n",
    "    plt.show()"
   ]
  },
  {
   "cell_type": "markdown",
   "id": "4cbc80d1",
   "metadata": {},
   "source": [
    "## (2)鸢尾花数据集"
   ]
  },
  {
   "cell_type": "markdown",
   "id": "9163bc8a",
   "metadata": {},
   "source": [
    "iris 数据中有三个标签，需要考虑如何使用二分类算法解决多分类问题"
   ]
  },
  {
   "cell_type": "code",
   "execution_count": 391,
   "id": "2aa898ce",
   "metadata": {},
   "outputs": [],
   "source": [
    "from sklearn.datasets import load_iris\n",
    "from sklearn.model_selection import train_test_split\n",
    "from sklearn.metrics import accuracy_score"
   ]
  },
  {
   "cell_type": "code",
   "execution_count": 392,
   "id": "601a126f",
   "metadata": {},
   "outputs": [
    {
     "name": "stdout",
     "output_type": "stream",
     "text": [
      "(150, 4)\n",
      "['sepal length (cm)', 'sepal width (cm)', 'petal length (cm)', 'petal width (cm)']\n",
      "['setosa' 'versicolor' 'virginica']\n"
     ]
    }
   ],
   "source": [
    "# 加载iris数据集\n",
    "iris = load_iris()\n",
    "X = iris.data\n",
    "y = iris.target\n",
    "print(X.shape)\n",
    "\n",
    "feature_names = iris.feature_names\n",
    "print(feature_names)\n",
    "\n",
    "target_names = iris.target_names\n",
    "print(target_names)"
   ]
  },
  {
   "cell_type": "code",
   "execution_count": 393,
   "id": "8e773e11",
   "metadata": {},
   "outputs": [],
   "source": [
    "from sklearn.preprocessing import StandardScaler\n",
    "# 标准化\n",
    "scaler = StandardScaler()\n",
    "X_scaled = scaler.fit_transform(X)"
   ]
  },
  {
   "cell_type": "markdown",
   "id": "35f21907",
   "metadata": {},
   "source": [
    "### OvO"
   ]
  },
  {
   "cell_type": "markdown",
   "id": "6a48a69d",
   "metadata": {},
   "source": [
    "思路：训练三个分类器，每个分类器对两个类别进行分类，最后通过三个分类器的结果“投票”决定划分的类别"
   ]
  },
  {
   "cell_type": "markdown",
   "id": "32339e21",
   "metadata": {},
   "source": [
    "#### 分类器1（setosa vs. versicolor)"
   ]
  },
  {
   "cell_type": "code",
   "execution_count": 394,
   "id": "b60d3837",
   "metadata": {},
   "outputs": [],
   "source": [
    "X_train, X_test, y_train, y_test = train_test_split(X_scaled, y, test_size=0.2, random_state=66)"
   ]
  },
  {
   "cell_type": "code",
   "execution_count": 395,
   "id": "ef080a5d",
   "metadata": {},
   "outputs": [],
   "source": [
    "indices_01 = (y_train == 0) | (y_train == 1)  # 找出类别为0和1的索引\n",
    "indices_01_t = (y_test == 0) | (y_test == 1)\n",
    "\n",
    "X_train_1 = X_train[indices_01]\n",
    "X_test_1 = X_test[indices_01_t]\n",
    "\n",
    "y_train_1 = y_train[indices_01]\n",
    "y_test_1 = y_test[indices_01_t]"
   ]
  },
  {
   "cell_type": "markdown",
   "id": "5d902334",
   "metadata": {},
   "source": [
    "下面使用编写的梯度下降逻辑回归训练"
   ]
  },
  {
   "cell_type": "code",
   "execution_count": 463,
   "id": "bf8acf69",
   "metadata": {},
   "outputs": [
    {
     "name": "stdout",
     "output_type": "stream",
     "text": [
      "[1 1 1 0 1 1 0 0 0 0 0 1 1 0 1 1 1 0 0]\n",
      "[1 1 1 0 1 1 0 0 0 0 0 1 1 0 1 1 1 0 0]\n"
     ]
    }
   ],
   "source": [
    "if __name__ == \"__main__\":\n",
    "    # 实例化和训练逻辑回归模型\n",
    "    model_1 = LogisticRegression()\n",
    "    ls_1, gr_1 = model_1.fit(X_train_1, y_train_1)\n",
    "\n",
    "\n",
    "    print(model_1.predict(X_test_1))\n",
    "    print(y_test_1)\n",
    "    \n",
    "    theta = model_1.get_theta()\n"
   ]
  },
  {
   "cell_type": "code",
   "execution_count": 464,
   "id": "1094df79",
   "metadata": {},
   "outputs": [
    {
     "data": {
      "text/plain": [
       "(array([ 1.02352992, -2.24077983,  2.08131386,  1.89977742]),\n",
       " 2.104288827931714)"
      ]
     },
     "execution_count": 464,
     "metadata": {},
     "output_type": "execute_result"
    }
   ],
   "source": [
    "theta"
   ]
  },
  {
   "cell_type": "markdown",
   "id": "1619b4dd",
   "metadata": {},
   "source": [
    "模型在测试集上分类完全正确！！！"
   ]
  },
  {
   "cell_type": "code",
   "execution_count": 465,
   "id": "c78bd14b",
   "metadata": {},
   "outputs": [
    {
     "data": {
      "image/png": "[encoded data removed]",
      "text/plain": [
       "<Figure size 1000x400 with 2 Axes>"
      ]
     },
     "metadata": {},
     "output_type": "display_data"
    }
   ],
   "source": [
    "draw(10000, ls, gr)"
   ]
  },
  {
   "cell_type": "code",
   "execution_count": 398,
   "id": "e8792b72",
   "metadata": {},
   "outputs": [
    {
     "data": {
      "image/png": "[encoded data removed]",
      "text/plain": [
       "<Figure size 640x480 with 1 Axes>"
      ]
     },
     "metadata": {},
     "output_type": "display_data"
    }
   ],
   "source": [
    "model_1.plot_accuracy()  # 绘制准确率曲线"
   ]
  },
  {
   "cell_type": "markdown",
   "id": "8a74cc7a",
   "metadata": {},
   "source": [
    "使用Sklearn包验证"
   ]
  },
  {
   "cell_type": "code",
   "execution_count": 456,
   "id": "00cf077f",
   "metadata": {},
   "outputs": [
    {
     "name": "stdout",
     "output_type": "stream",
     "text": [
      "coefficients: [[ 0.93436309 -1.35444543  1.58684153  1.50716883]]\n",
      "intercept: [2.25128365]\n",
      "预测结果： [1 1 1 0 1 1 0 0 0 0 0 1 1 0 1 1 1 0 0]\n"
     ]
    }
   ],
   "source": [
    "from sklearn.linear_model import LogisticRegression\n",
    "model_s1 = LogisticRegression()\n",
    "model_s1.fit(X_train_1, y_train_1)\n",
    "weights = model_s1.coef_\n",
    "intercept = model_s1.intercept_\n",
    "\n",
    "# 输出参数\n",
    "print(\"coefficients:\", weights)\n",
    "print(\"intercept:\", intercept)\n",
    "print(\"预测结果：\", model_1.predict(X_test_1))"
   ]
  },
  {
   "cell_type": "markdown",
   "id": "bca8eedc",
   "metadata": {},
   "source": [
    "#### 分类器2（setosa vs. virginica)"
   ]
  },
  {
   "cell_type": "code",
   "execution_count": 400,
   "id": "6591c6db",
   "metadata": {},
   "outputs": [],
   "source": [
    "indices_02 = (y_train == 0) | (y_train == 2)  # 找出类别为0和2的索引\n",
    "indices_02_t = (y_test == 0) | (y_test == 2)\n",
    "\n",
    "X_train_2 = X_train[indices_02]\n",
    "X_test_2 = X_test[indices_02_t]\n",
    "\n",
    "y_train_2 = y_train[indices_02]\n",
    "y_test_2 = y_test[indices_02_t]\n",
    "\n",
    "y_train_2[y_train_2 == 2] = 1\n",
    "y_test_2[y_test_2 == 2]  = 1"
   ]
  },
  {
   "cell_type": "code",
   "execution_count": 401,
   "id": "3ea7803b",
   "metadata": {},
   "outputs": [
    {
     "name": "stdout",
     "output_type": "stream",
     "text": [
      "[0 0 0 0 1 1 1 0 1 1 0 1 1 0 1 1 0 0 1 1]\n",
      "[0 0 0 0 1 1 1 0 1 1 0 1 1 0 1 1 0 0 1 1]\n"
     ]
    }
   ],
   "source": [
    "# 实例化和训练逻辑回归模型\n",
    "model_2 = LogisticRegression()\n",
    "model_2.fit(X_train_2, y_train_2)\n",
    "\n",
    "print(model_2.predict(X_test_2))\n",
    "print(y_test_2)"
   ]
  },
  {
   "cell_type": "markdown",
   "id": "fb9a2dec",
   "metadata": {},
   "source": [
    "使用sklearn包验证"
   ]
  },
  {
   "cell_type": "code",
   "execution_count": 402,
   "id": "4db6316f",
   "metadata": {},
   "outputs": [
    {
     "name": "stdout",
     "output_type": "stream",
     "text": [
      "coefficients: [[ 0.8224266  -0.7385878   1.33829004  1.39546167]]\n",
      "intercept: [0.71541032]\n",
      "预测结果： [0 0 0 0 1 1 1 0 1 1 0 1 1 0 1 1 0 0 1 1]\n"
     ]
    }
   ],
   "source": [
    "model_s2 = LogisticRegression()\n",
    "model_s2.fit(X_train_2, y_train_2)\n",
    "weights = model_s2.coef_\n",
    "intercept = model_s2.intercept_\n",
    "\n",
    "# 输出参数\n",
    "print(\"coefficients:\", weights)\n",
    "print(\"intercept:\", intercept)\n",
    "print(\"预测结果：\", model_2.predict(X_test_2))"
   ]
  },
  {
   "cell_type": "markdown",
   "id": "8afc7a59",
   "metadata": {},
   "source": [
    "#### 分类器3（versicolor vs. virginica）"
   ]
  },
  {
   "cell_type": "code",
   "execution_count": 403,
   "id": "c21350c2",
   "metadata": {},
   "outputs": [],
   "source": [
    "indices_03 = (y_train == 1) | (y_train == 2)  # 找出类别为0和2的索引\n",
    "indices_03_t = (y_test == 1) | (y_test == 2)\n",
    "\n",
    "X_train_3 = X_train[indices_03]\n",
    "X_test_3 = X_test[indices_03_t]\n",
    "\n",
    "y_train_3 = y_train[indices_03]\n",
    "y_test_3 = y_test[indices_03_t]\n",
    "\n",
    "y_train_3[y_train_3 == 2] = 0\n",
    "y_test_3[y_test_3 == 2]  = 0"
   ]
  },
  {
   "cell_type": "code",
   "execution_count": 404,
   "id": "b4c57d13",
   "metadata": {},
   "outputs": [
    {
     "name": "stdout",
     "output_type": "stream",
     "text": [
      "[1 1 1 1 1 0 0 0 0 0 1 1 0 0 1 1 0 1 0 0 0]\n",
      "[1 1 1 1 1 0 0 0 0 0 1 1 0 0 1 1 0 1 0 0 0]\n"
     ]
    }
   ],
   "source": [
    "# 实例化和训练逻辑回归模型\n",
    "model_3 = LogisticRegression()\n",
    "model_3.fit(X_train_3, y_train_3)\n",
    "\n",
    "print(model_3.predict(X_test_3))\n",
    "print(y_test_3)"
   ]
  },
  {
   "cell_type": "markdown",
   "id": "be7d1819",
   "metadata": {},
   "source": [
    "使用sklearn包验证"
   ]
  },
  {
   "cell_type": "code",
   "execution_count": 405,
   "id": "39abca1c",
   "metadata": {},
   "outputs": [
    {
     "name": "stdout",
     "output_type": "stream",
     "text": [
      "coefficients: [[-0.25269278  0.57601981 -2.14118478 -2.89522098]]\n",
      "intercept: [3.57649947]\n",
      "预测结果： [1 1 1 1 1 0 0 0 0 0 1 1 0 0 1 1 0 1 0 0 0]\n"
     ]
    }
   ],
   "source": [
    "model_s3 = LogisticRegression()\n",
    "model_s3.fit(X_train_3, y_train_3)\n",
    "weights = model_s3.coef_\n",
    "intercept = model_s3.intercept_\n",
    "\n",
    "# 输出参数\n",
    "print(\"coefficients:\", weights)\n",
    "print(\"intercept:\", intercept)\n",
    "print(\"预测结果：\", model_3.predict(X_test_3))"
   ]
  },
  {
   "cell_type": "markdown",
   "id": "a7def043",
   "metadata": {},
   "source": [
    "三个分类器均已训练完成，接下来用三个分类器进行分类"
   ]
  },
  {
   "cell_type": "code",
   "execution_count": 410,
   "id": "60f352c3",
   "metadata": {},
   "outputs": [],
   "source": [
    "p1 = model_1.predict(X_test)"
   ]
  },
  {
   "cell_type": "code",
   "execution_count": 411,
   "id": "0866d288",
   "metadata": {},
   "outputs": [],
   "source": [
    "p2 = model_2.predict(X_test)"
   ]
  },
  {
   "cell_type": "code",
   "execution_count": 412,
   "id": "3a8b3fdd",
   "metadata": {},
   "outputs": [],
   "source": [
    "p3 = model_3.predict(X_test)"
   ]
  },
  {
   "cell_type": "code",
   "execution_count": 417,
   "id": "a4130681",
   "metadata": {},
   "outputs": [
    {
     "name": "stdout",
     "output_type": "stream",
     "text": [
      "30\n"
     ]
    }
   ],
   "source": [
    "print(X_test.shape[0])"
   ]
  },
  {
   "cell_type": "code",
   "execution_count": 420,
   "id": "bc7a6f6f",
   "metadata": {},
   "outputs": [
    {
     "name": "stdout",
     "output_type": "stream",
     "text": [
      "[1 1 1 0 1 1 0 0 0 1 1 1 0 1 1 0 1 1 1 1 0 1 1 1 1 1 0 0 1 1]\n"
     ]
    }
   ],
   "source": [
    "print(p1)"
   ]
  },
  {
   "cell_type": "markdown",
   "id": "985feb1a",
   "metadata": {},
   "source": [
    "根据二分类结果进行投票"
   ]
  },
  {
   "cell_type": "code",
   "execution_count": 437,
   "id": "e938c97d",
   "metadata": {},
   "outputs": [],
   "source": [
    "pre = np.zeros(X_test.shape[0])\n",
    "\n",
    "for i in range(X_test.shape[0]):\n",
    "    sp_dict = {'0': 0, '1': 0, '2': 0}\n",
    "    if p1[i] == 0:\n",
    "        sp_dict['0'] += 1\n",
    "    else:\n",
    "        sp_dict['1'] += 1\n",
    "    if p2[i] == 0:\n",
    "        sp_dict['0'] += 1\n",
    "    else:\n",
    "        sp_dict['2'] += 1\n",
    "    if p3[i] == 0:\n",
    "        sp_dict['2'] += 1\n",
    "    else:\n",
    "        sp_dict['1'] += 1\n",
    "    max_key = max(sp_dict, key=sp_dict.get) \n",
    "    pre[i] = (max_key)"
   ]
  },
  {
   "cell_type": "code",
   "execution_count": 443,
   "id": "1cd6104c",
   "metadata": {},
   "outputs": [
    {
     "data": {
      "text/plain": [
       "array([1., 1., 1., 0., 1., 1., 0., 0., 0., 2., 2., 2., 0., 2., 2., 0., 1.,\n",
       "       1., 2., 2., 0., 1., 1., 2., 1., 2., 0., 0., 2., 2.])"
      ]
     },
     "execution_count": 443,
     "metadata": {},
     "output_type": "execute_result"
    }
   ],
   "source": [
    "pre"
   ]
  },
  {
   "cell_type": "code",
   "execution_count": 444,
   "id": "a2a57c59",
   "metadata": {},
   "outputs": [
    {
     "data": {
      "text/plain": [
       "array([1, 1, 1, 0, 1, 1, 0, 0, 0, 2, 2, 2, 0, 2, 2, 0, 1, 1, 2, 2, 0, 1,\n",
       "       1, 2, 1, 2, 0, 0, 2, 2])"
      ]
     },
     "execution_count": 444,
     "metadata": {},
     "output_type": "execute_result"
    }
   ],
   "source": [
    "y_test"
   ]
  },
  {
   "cell_type": "markdown",
   "id": "ecc9a099",
   "metadata": {},
   "source": [
    "对比可见，成功通过二分类解决多分类问题，在测试集上分类结果完全正确！！！"
   ]
  },
  {
   "cell_type": "code",
   "execution_count": null,
   "id": "58b94c81",
   "metadata": {},
   "outputs": [],
   "source": []
  }
 ],
 "metadata": {
  "kernelspec": {
   "display_name": "Python 3 (ipykernel)",
   "language": "python",
   "name": "python3"
  },
  "language_info": {
   "codemirror_mode": {
    "name": "ipython",
    "version": 3
   },
   "file_extension": ".py",
   "mimetype": "text/x-python",
   "name": "python",
   "nbconvert_exporter": "python",
   "pygments_lexer": "ipython3",
   "version": "3.11.5"
  }
 },
 "nbformat": 4,
 "nbformat_minor": 5
}
